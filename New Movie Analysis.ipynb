{
 "cells": [
  {
   "cell_type": "markdown",
   "id": "438c7e6e",
   "metadata": {},
   "source": [
    "# Overview"
   ]
  },
  {
   "cell_type": "markdown",
   "id": "87cad694",
   "metadata": {},
   "source": [
    "This project is a response to the growing demand for Microsoft to venture into the movie making business. This move will enable Microsoft to tap into a new market while relaying a new service to their consumers. The success of Microsoft's new movie studio is dependent on making well-informed decisions that are data driven. The data driven decisions should propel the company forward with more sales and better customer engagement."
   ]
  },
  {
   "cell_type": "markdown",
   "id": "dd75103e",
   "metadata": {},
   "source": [
    "# Business problem"
   ]
  },
  {
   "cell_type": "markdown",
   "id": "ac68316c",
   "metadata": {},
   "source": [
    "Microsoft aims to establish a presence in the original video content industry, competing with well-established players like Netflix and Warner bros pictures. The primary challenge is to develop a winning strategy for creating content that not only competes effectively but also captivates and retains audiences. To achieve this, Microsoft must set itself apart by making substantial investments in content development, talent acquisition, and marketing. Additionally, it needs to gain a deep understanding of audience preferences and emerging trends. Balancing the expenses of content creation with revenue sources, such as advertising or subscription models, is also critical.\n",
    "\n",
    "The analysis is structured around three key factors:\n",
    "\n",
    "Identifying the most prominent and appealing genres to produce content that resonates with viewers.\n",
    "\n",
    "Investigating the correlation between the duration of a movie and its popularity, helping Microsoft make informed decisions about the length of its content.\n",
    "\n",
    "Recognizing the best-performing studios in the movie box office, which can provide valuable insights into potential partnerships, acquisitions, or collaboration opportunities.\n",
    "\n",
    "By addressing these aspects, Microsoft can enhance its ability to compete in the video industry, understand audience preferences, and establish a viable revenue model."
   ]
  },
  {
   "cell_type": "markdown",
   "id": "78f9d1cd",
   "metadata": {},
   "source": [
    "# Data preparation"
   ]
  },
  {
   "cell_type": "code",
   "execution_count": 284,
   "id": "a282019d",
   "metadata": {},
   "outputs": [],
   "source": [
    "#loading needed libraries\n",
    "import numpy as np\n",
    "import pandas as pd\n",
    "import seaborn as sns\n",
    "import matplotlib.pyplot as plt\n",
    "%matplotlib inline"
   ]
  },
  {
   "cell_type": "markdown",
   "id": "c9b80d5a",
   "metadata": {},
   "source": [
    "**Loading first data set(Box office mojo)**"
   ]
  },
  {
   "cell_type": "code",
   "execution_count": 285,
   "id": "bafe9468",
   "metadata": {},
   "outputs": [
    {
     "name": "stdout",
     "output_type": "stream",
     "text": [
      "                                         title studio  domestic_gross  \\\n",
      "0                                  Toy Story 3     BV     415000000.0   \n",
      "1                   Alice in Wonderland (2010)     BV     334200000.0   \n",
      "2  Harry Potter and the Deathly Hallows Part 1     WB     296000000.0   \n",
      "3                                    Inception     WB     292600000.0   \n",
      "4                          Shrek Forever After   P/DW     238700000.0   \n",
      "\n",
      "  foreign_gross  year  \n",
      "0     652000000  2010  \n",
      "1     691300000  2010  \n",
      "2     664300000  2010  \n",
      "3     535700000  2010  \n",
      "4     513900000  2010  \n"
     ]
    }
   ],
   "source": [
    "movie_gross = pd.read_csv(r'C:\\Users\\ALLAN\\Downloads\\bom.movie_gross.csv.gz')\n",
    "print(movie_gross.head())"
   ]
  },
  {
   "cell_type": "markdown",
   "id": "07fdc7bf",
   "metadata": {},
   "source": [
    "**Loading second data set(Movie ratings)**"
   ]
  },
  {
   "cell_type": "code",
   "execution_count": 286,
   "id": "9deab893",
   "metadata": {},
   "outputs": [
    {
     "name": "stdout",
     "output_type": "stream",
     "text": [
      "       tconst  averagerating  numvotes\n",
      "0  tt10356526            8.3        31\n",
      "1  tt10384606            8.9       559\n",
      "2   tt1042974            6.4        20\n",
      "3   tt1043726            4.2     50352\n",
      "4   tt1060240            6.5        21\n"
     ]
    }
   ],
   "source": [
    "im_movie_ratings = pd.read_csv(r'C:\\Users\\ALLAN\\Downloads\\imdb.title.ratings.csv.gz')\n",
    "print(im_movie_ratings.head())"
   ]
  },
  {
   "cell_type": "markdown",
   "id": "266a78e1",
   "metadata": {},
   "source": [
    "**Loading third data set(Movie basics)**"
   ]
  },
  {
   "cell_type": "code",
   "execution_count": 287,
   "id": "c7f06f7f",
   "metadata": {},
   "outputs": [
    {
     "name": "stdout",
     "output_type": "stream",
     "text": [
      "      tconst                    primary_title              original_title  \\\n",
      "0  tt0063540                        Sunghursh                   Sunghursh   \n",
      "1  tt0066787  One Day Before the Rainy Season             Ashad Ka Ek Din   \n",
      "2  tt0069049       The Other Side of the Wind  The Other Side of the Wind   \n",
      "3  tt0069204                  Sabse Bada Sukh             Sabse Bada Sukh   \n",
      "4  tt0100275         The Wandering Soap Opera       La Telenovela Errante   \n",
      "\n",
      "   start_year  runtime_minutes                genres  \n",
      "0        2013            175.0    Action,Crime,Drama  \n",
      "1        2019            114.0       Biography,Drama  \n",
      "2        2018            122.0                 Drama  \n",
      "3        2018              NaN          Comedy,Drama  \n",
      "4        2017             80.0  Comedy,Drama,Fantasy  \n"
     ]
    }
   ],
   "source": [
    "im_movie_basics = pd.read_csv(r'C:\\Users\\ALLAN\\Downloads\\imdb.title.basics.csv.gz')\n",
    "print(im_movie_basics.head())"
   ]
  },
  {
   "cell_type": "code",
   "execution_count": 288,
   "id": "cabe72b9",
   "metadata": {},
   "outputs": [
    {
     "data": {
      "text/html": [
       "<div>\n",
       "<style scoped>\n",
       "    .dataframe tbody tr th:only-of-type {\n",
       "        vertical-align: middle;\n",
       "    }\n",
       "\n",
       "    .dataframe tbody tr th {\n",
       "        vertical-align: top;\n",
       "    }\n",
       "\n",
       "    .dataframe thead th {\n",
       "        text-align: right;\n",
       "    }\n",
       "</style>\n",
       "<table border=\"1\" class=\"dataframe\">\n",
       "  <thead>\n",
       "    <tr style=\"text-align: right;\">\n",
       "      <th></th>\n",
       "      <th>tconst</th>\n",
       "      <th>primary_title</th>\n",
       "      <th>original_title</th>\n",
       "      <th>start_year</th>\n",
       "      <th>runtime_minutes</th>\n",
       "      <th>genres</th>\n",
       "      <th>averagerating</th>\n",
       "      <th>numvotes</th>\n",
       "    </tr>\n",
       "  </thead>\n",
       "  <tbody>\n",
       "    <tr>\n",
       "      <th>0</th>\n",
       "      <td>tt0063540</td>\n",
       "      <td>Sunghursh</td>\n",
       "      <td>Sunghursh</td>\n",
       "      <td>2013</td>\n",
       "      <td>175.0</td>\n",
       "      <td>Action,Crime,Drama</td>\n",
       "      <td>7.0</td>\n",
       "      <td>77</td>\n",
       "    </tr>\n",
       "    <tr>\n",
       "      <th>1</th>\n",
       "      <td>tt0066787</td>\n",
       "      <td>One Day Before the Rainy Season</td>\n",
       "      <td>Ashad Ka Ek Din</td>\n",
       "      <td>2019</td>\n",
       "      <td>114.0</td>\n",
       "      <td>Biography,Drama</td>\n",
       "      <td>7.2</td>\n",
       "      <td>43</td>\n",
       "    </tr>\n",
       "    <tr>\n",
       "      <th>2</th>\n",
       "      <td>tt0069049</td>\n",
       "      <td>The Other Side of the Wind</td>\n",
       "      <td>The Other Side of the Wind</td>\n",
       "      <td>2018</td>\n",
       "      <td>122.0</td>\n",
       "      <td>Drama</td>\n",
       "      <td>6.9</td>\n",
       "      <td>4517</td>\n",
       "    </tr>\n",
       "    <tr>\n",
       "      <th>3</th>\n",
       "      <td>tt0069204</td>\n",
       "      <td>Sabse Bada Sukh</td>\n",
       "      <td>Sabse Bada Sukh</td>\n",
       "      <td>2018</td>\n",
       "      <td>NaN</td>\n",
       "      <td>Comedy,Drama</td>\n",
       "      <td>6.1</td>\n",
       "      <td>13</td>\n",
       "    </tr>\n",
       "    <tr>\n",
       "      <th>4</th>\n",
       "      <td>tt0100275</td>\n",
       "      <td>The Wandering Soap Opera</td>\n",
       "      <td>La Telenovela Errante</td>\n",
       "      <td>2017</td>\n",
       "      <td>80.0</td>\n",
       "      <td>Comedy,Drama,Fantasy</td>\n",
       "      <td>6.5</td>\n",
       "      <td>119</td>\n",
       "    </tr>\n",
       "    <tr>\n",
       "      <th>...</th>\n",
       "      <td>...</td>\n",
       "      <td>...</td>\n",
       "      <td>...</td>\n",
       "      <td>...</td>\n",
       "      <td>...</td>\n",
       "      <td>...</td>\n",
       "      <td>...</td>\n",
       "      <td>...</td>\n",
       "    </tr>\n",
       "    <tr>\n",
       "      <th>73851</th>\n",
       "      <td>tt9913084</td>\n",
       "      <td>Diabolik sono io</td>\n",
       "      <td>Diabolik sono io</td>\n",
       "      <td>2019</td>\n",
       "      <td>75.0</td>\n",
       "      <td>Documentary</td>\n",
       "      <td>6.2</td>\n",
       "      <td>6</td>\n",
       "    </tr>\n",
       "    <tr>\n",
       "      <th>73852</th>\n",
       "      <td>tt9914286</td>\n",
       "      <td>Sokagin Çocuklari</td>\n",
       "      <td>Sokagin Çocuklari</td>\n",
       "      <td>2019</td>\n",
       "      <td>98.0</td>\n",
       "      <td>Drama,Family</td>\n",
       "      <td>8.7</td>\n",
       "      <td>136</td>\n",
       "    </tr>\n",
       "    <tr>\n",
       "      <th>73853</th>\n",
       "      <td>tt9914642</td>\n",
       "      <td>Albatross</td>\n",
       "      <td>Albatross</td>\n",
       "      <td>2017</td>\n",
       "      <td>NaN</td>\n",
       "      <td>Documentary</td>\n",
       "      <td>8.5</td>\n",
       "      <td>8</td>\n",
       "    </tr>\n",
       "    <tr>\n",
       "      <th>73854</th>\n",
       "      <td>tt9914942</td>\n",
       "      <td>La vida sense la Sara Amat</td>\n",
       "      <td>La vida sense la Sara Amat</td>\n",
       "      <td>2019</td>\n",
       "      <td>NaN</td>\n",
       "      <td>NaN</td>\n",
       "      <td>6.6</td>\n",
       "      <td>5</td>\n",
       "    </tr>\n",
       "    <tr>\n",
       "      <th>73855</th>\n",
       "      <td>tt9916160</td>\n",
       "      <td>Drømmeland</td>\n",
       "      <td>Drømmeland</td>\n",
       "      <td>2019</td>\n",
       "      <td>72.0</td>\n",
       "      <td>Documentary</td>\n",
       "      <td>6.5</td>\n",
       "      <td>11</td>\n",
       "    </tr>\n",
       "  </tbody>\n",
       "</table>\n",
       "<p>73856 rows × 8 columns</p>\n",
       "</div>"
      ],
      "text/plain": [
       "          tconst                    primary_title              original_title  \\\n",
       "0      tt0063540                        Sunghursh                   Sunghursh   \n",
       "1      tt0066787  One Day Before the Rainy Season             Ashad Ka Ek Din   \n",
       "2      tt0069049       The Other Side of the Wind  The Other Side of the Wind   \n",
       "3      tt0069204                  Sabse Bada Sukh             Sabse Bada Sukh   \n",
       "4      tt0100275         The Wandering Soap Opera       La Telenovela Errante   \n",
       "...          ...                              ...                         ...   \n",
       "73851  tt9913084                 Diabolik sono io            Diabolik sono io   \n",
       "73852  tt9914286                Sokagin Çocuklari           Sokagin Çocuklari   \n",
       "73853  tt9914642                        Albatross                   Albatross   \n",
       "73854  tt9914942       La vida sense la Sara Amat  La vida sense la Sara Amat   \n",
       "73855  tt9916160                       Drømmeland                  Drømmeland   \n",
       "\n",
       "       start_year  runtime_minutes                genres  averagerating  \\\n",
       "0            2013            175.0    Action,Crime,Drama            7.0   \n",
       "1            2019            114.0       Biography,Drama            7.2   \n",
       "2            2018            122.0                 Drama            6.9   \n",
       "3            2018              NaN          Comedy,Drama            6.1   \n",
       "4            2017             80.0  Comedy,Drama,Fantasy            6.5   \n",
       "...           ...              ...                   ...            ...   \n",
       "73851        2019             75.0           Documentary            6.2   \n",
       "73852        2019             98.0          Drama,Family            8.7   \n",
       "73853        2017              NaN           Documentary            8.5   \n",
       "73854        2019              NaN                   NaN            6.6   \n",
       "73855        2019             72.0           Documentary            6.5   \n",
       "\n",
       "       numvotes  \n",
       "0            77  \n",
       "1            43  \n",
       "2          4517  \n",
       "3            13  \n",
       "4           119  \n",
       "...         ...  \n",
       "73851         6  \n",
       "73852       136  \n",
       "73853         8  \n",
       "73854         5  \n",
       "73855        11  \n",
       "\n",
       "[73856 rows x 8 columns]"
      ]
     },
     "execution_count": 288,
     "metadata": {},
     "output_type": "execute_result"
    }
   ],
   "source": [
    "# merge the two datasets (movie_ratings and movie_basics)\n",
    "merged_dataset = pd.merge(im_movie_basics, im_movie_ratings, on='tconst')\n",
    "# The two datasets have been merged on a common column tconst.\n",
    "merged_dataset"
   ]
  },
  {
   "cell_type": "markdown",
   "id": "e71755ba",
   "metadata": {},
   "source": [
    "# Checking the data and datatypes"
   ]
  },
  {
   "cell_type": "code",
   "execution_count": 289,
   "id": "1487b1e1",
   "metadata": {},
   "outputs": [
    {
     "data": {
      "text/html": [
       "<div>\n",
       "<style scoped>\n",
       "    .dataframe tbody tr th:only-of-type {\n",
       "        vertical-align: middle;\n",
       "    }\n",
       "\n",
       "    .dataframe tbody tr th {\n",
       "        vertical-align: top;\n",
       "    }\n",
       "\n",
       "    .dataframe thead th {\n",
       "        text-align: right;\n",
       "    }\n",
       "</style>\n",
       "<table border=\"1\" class=\"dataframe\">\n",
       "  <thead>\n",
       "    <tr style=\"text-align: right;\">\n",
       "      <th></th>\n",
       "      <th>tconst</th>\n",
       "      <th>primary_title</th>\n",
       "      <th>original_title</th>\n",
       "      <th>start_year</th>\n",
       "      <th>runtime_minutes</th>\n",
       "      <th>genres</th>\n",
       "      <th>averagerating</th>\n",
       "      <th>numvotes</th>\n",
       "    </tr>\n",
       "  </thead>\n",
       "  <tbody>\n",
       "    <tr>\n",
       "      <th>27745</th>\n",
       "      <td>tt2664880</td>\n",
       "      <td>Villmark 2</td>\n",
       "      <td>Villmark 2</td>\n",
       "      <td>2015</td>\n",
       "      <td>93.0</td>\n",
       "      <td>Horror</td>\n",
       "      <td>5.3</td>\n",
       "      <td>2123</td>\n",
       "    </tr>\n",
       "    <tr>\n",
       "      <th>20048</th>\n",
       "      <td>tt2229407</td>\n",
       "      <td>Tata od formata</td>\n",
       "      <td>Tata od formata</td>\n",
       "      <td>2011</td>\n",
       "      <td>82.0</td>\n",
       "      <td>Biography,Documentary,Family</td>\n",
       "      <td>9.1</td>\n",
       "      <td>18</td>\n",
       "    </tr>\n",
       "    <tr>\n",
       "      <th>653</th>\n",
       "      <td>tt10122504</td>\n",
       "      <td>Rampaat</td>\n",
       "      <td>Rampaat</td>\n",
       "      <td>2019</td>\n",
       "      <td>NaN</td>\n",
       "      <td>Comedy</td>\n",
       "      <td>6.8</td>\n",
       "      <td>8</td>\n",
       "    </tr>\n",
       "    <tr>\n",
       "      <th>67618</th>\n",
       "      <td>tt7595528</td>\n",
       "      <td>No Ordinary Sheila</td>\n",
       "      <td>No Ordinary Sheila</td>\n",
       "      <td>2017</td>\n",
       "      <td>98.0</td>\n",
       "      <td>Documentary</td>\n",
       "      <td>9.0</td>\n",
       "      <td>9</td>\n",
       "    </tr>\n",
       "    <tr>\n",
       "      <th>47124</th>\n",
       "      <td>tt4591234</td>\n",
       "      <td>Adoptation</td>\n",
       "      <td>Adoptation</td>\n",
       "      <td>2016</td>\n",
       "      <td>89.0</td>\n",
       "      <td>Comedy,Drama</td>\n",
       "      <td>7.0</td>\n",
       "      <td>25</td>\n",
       "    </tr>\n",
       "  </tbody>\n",
       "</table>\n",
       "</div>"
      ],
      "text/plain": [
       "           tconst       primary_title      original_title  start_year  \\\n",
       "27745   tt2664880          Villmark 2          Villmark 2        2015   \n",
       "20048   tt2229407     Tata od formata     Tata od formata        2011   \n",
       "653    tt10122504             Rampaat             Rampaat        2019   \n",
       "67618   tt7595528  No Ordinary Sheila  No Ordinary Sheila        2017   \n",
       "47124   tt4591234          Adoptation          Adoptation        2016   \n",
       "\n",
       "       runtime_minutes                        genres  averagerating  numvotes  \n",
       "27745             93.0                        Horror            5.3      2123  \n",
       "20048             82.0  Biography,Documentary,Family            9.1        18  \n",
       "653                NaN                        Comedy            6.8         8  \n",
       "67618             98.0                   Documentary            9.0         9  \n",
       "47124             89.0                  Comedy,Drama            7.0        25  "
      ]
     },
     "execution_count": 289,
     "metadata": {},
     "output_type": "execute_result"
    }
   ],
   "source": [
    "# Inspect a few random rows of the DataFrame to get a sense of the data's structure and content\n",
    "merged_dataset.sample(5) "
   ]
  },
  {
   "cell_type": "code",
   "execution_count": 290,
   "id": "1bbda78b",
   "metadata": {},
   "outputs": [
    {
     "data": {
      "text/html": [
       "<div>\n",
       "<style scoped>\n",
       "    .dataframe tbody tr th:only-of-type {\n",
       "        vertical-align: middle;\n",
       "    }\n",
       "\n",
       "    .dataframe tbody tr th {\n",
       "        vertical-align: top;\n",
       "    }\n",
       "\n",
       "    .dataframe thead th {\n",
       "        text-align: right;\n",
       "    }\n",
       "</style>\n",
       "<table border=\"1\" class=\"dataframe\">\n",
       "  <thead>\n",
       "    <tr style=\"text-align: right;\">\n",
       "      <th></th>\n",
       "      <th>title</th>\n",
       "      <th>studio</th>\n",
       "      <th>domestic_gross</th>\n",
       "      <th>foreign_gross</th>\n",
       "      <th>year</th>\n",
       "    </tr>\n",
       "  </thead>\n",
       "  <tbody>\n",
       "    <tr>\n",
       "      <th>830</th>\n",
       "      <td>Little White Lies</td>\n",
       "      <td>MPI</td>\n",
       "      <td>206000.0</td>\n",
       "      <td>48300000</td>\n",
       "      <td>2012</td>\n",
       "    </tr>\n",
       "    <tr>\n",
       "      <th>1106</th>\n",
       "      <td>Alps</td>\n",
       "      <td>KL</td>\n",
       "      <td>16100.0</td>\n",
       "      <td>NaN</td>\n",
       "      <td>2012</td>\n",
       "    </tr>\n",
       "    <tr>\n",
       "      <th>416</th>\n",
       "      <td>The Lincoln Lawyer</td>\n",
       "      <td>LGF</td>\n",
       "      <td>58000000.0</td>\n",
       "      <td>17000000</td>\n",
       "      <td>2011</td>\n",
       "    </tr>\n",
       "    <tr>\n",
       "      <th>355</th>\n",
       "      <td>The Help</td>\n",
       "      <td>BV</td>\n",
       "      <td>169700000.0</td>\n",
       "      <td>46900000</td>\n",
       "      <td>2011</td>\n",
       "    </tr>\n",
       "    <tr>\n",
       "      <th>188</th>\n",
       "      <td>Greenberg</td>\n",
       "      <td>Focus</td>\n",
       "      <td>4200000.0</td>\n",
       "      <td>1900000</td>\n",
       "      <td>2010</td>\n",
       "    </tr>\n",
       "  </tbody>\n",
       "</table>\n",
       "</div>"
      ],
      "text/plain": [
       "                   title studio  domestic_gross foreign_gross  year\n",
       "830    Little White Lies    MPI        206000.0      48300000  2012\n",
       "1106                Alps     KL         16100.0           NaN  2012\n",
       "416   The Lincoln Lawyer    LGF      58000000.0      17000000  2011\n",
       "355             The Help     BV     169700000.0      46900000  2011\n",
       "188            Greenberg  Focus       4200000.0       1900000  2010"
      ]
     },
     "execution_count": 290,
     "metadata": {},
     "output_type": "execute_result"
    }
   ],
   "source": [
    "movie_gross.sample(5) "
   ]
  },
  {
   "cell_type": "code",
   "execution_count": 291,
   "id": "192075d5",
   "metadata": {},
   "outputs": [
    {
     "data": {
      "text/plain": [
       "(73856, 8)"
      ]
     },
     "execution_count": 291,
     "metadata": {},
     "output_type": "execute_result"
    }
   ],
   "source": [
    "merged_dataset.shape # checks for the number of rows and columns"
   ]
  },
  {
   "cell_type": "code",
   "execution_count": 292,
   "id": "3a94ef1d",
   "metadata": {},
   "outputs": [
    {
     "data": {
      "text/plain": [
       "(3387, 5)"
      ]
     },
     "execution_count": 292,
     "metadata": {},
     "output_type": "execute_result"
    }
   ],
   "source": [
    "movie_gross.shape # checks for the number of rows and columns"
   ]
  },
  {
   "cell_type": "code",
   "execution_count": 293,
   "id": "5b96f1ca",
   "metadata": {},
   "outputs": [
    {
     "data": {
      "text/plain": [
       "Index(['tconst', 'primary_title', 'original_title', 'start_year',\n",
       "       'runtime_minutes', 'genres', 'averagerating', 'numvotes'],\n",
       "      dtype='object')"
      ]
     },
     "execution_count": 293,
     "metadata": {},
     "output_type": "execute_result"
    }
   ],
   "source": [
    "merged_dataset.columns # prints out the column names"
   ]
  },
  {
   "cell_type": "code",
   "execution_count": 294,
   "id": "d6c312d2",
   "metadata": {},
   "outputs": [
    {
     "data": {
      "text/plain": [
       "Index(['title', 'studio', 'domestic_gross', 'foreign_gross', 'year'], dtype='object')"
      ]
     },
     "execution_count": 294,
     "metadata": {},
     "output_type": "execute_result"
    }
   ],
   "source": [
    "movie_gross.columns # prints out the column names"
   ]
  },
  {
   "cell_type": "code",
   "execution_count": 295,
   "id": "f561624e",
   "metadata": {},
   "outputs": [
    {
     "name": "stdout",
     "output_type": "stream",
     "text": [
      "<class 'pandas.core.frame.DataFrame'>\n",
      "RangeIndex: 73856 entries, 0 to 73855\n",
      "Data columns (total 8 columns):\n",
      " #   Column           Non-Null Count  Dtype  \n",
      "---  ------           --------------  -----  \n",
      " 0   tconst           73856 non-null  object \n",
      " 1   primary_title    73856 non-null  object \n",
      " 2   original_title   73856 non-null  object \n",
      " 3   start_year       73856 non-null  int64  \n",
      " 4   runtime_minutes  66236 non-null  float64\n",
      " 5   genres           73052 non-null  object \n",
      " 6   averagerating    73856 non-null  float64\n",
      " 7   numvotes         73856 non-null  int64  \n",
      "dtypes: float64(2), int64(2), object(4)\n",
      "memory usage: 4.5+ MB\n"
     ]
    }
   ],
   "source": [
    "merged_dataset.info() # checks for the overview of the data"
   ]
  },
  {
   "cell_type": "code",
   "execution_count": 296,
   "id": "023e5e88",
   "metadata": {},
   "outputs": [
    {
     "name": "stdout",
     "output_type": "stream",
     "text": [
      "<class 'pandas.core.frame.DataFrame'>\n",
      "RangeIndex: 3387 entries, 0 to 3386\n",
      "Data columns (total 5 columns):\n",
      " #   Column          Non-Null Count  Dtype  \n",
      "---  ------          --------------  -----  \n",
      " 0   title           3387 non-null   object \n",
      " 1   studio          3382 non-null   object \n",
      " 2   domestic_gross  3359 non-null   float64\n",
      " 3   foreign_gross   2037 non-null   object \n",
      " 4   year            3387 non-null   int64  \n",
      "dtypes: float64(1), int64(1), object(3)\n",
      "memory usage: 132.4+ KB\n"
     ]
    }
   ],
   "source": [
    "movie_gross.info() # checks for the overview of the data"
   ]
  },
  {
   "cell_type": "markdown",
   "id": "dcbc1a3f",
   "metadata": {},
   "source": [
    "put description here"
   ]
  },
  {
   "cell_type": "code",
   "execution_count": 297,
   "id": "bf15fe36",
   "metadata": {},
   "outputs": [
    {
     "data": {
      "text/plain": [
       "tconst              object\n",
       "primary_title       object\n",
       "original_title      object\n",
       "start_year           int64\n",
       "runtime_minutes    float64\n",
       "genres              object\n",
       "averagerating      float64\n",
       "numvotes             int64\n",
       "dtype: object"
      ]
     },
     "execution_count": 297,
     "metadata": {},
     "output_type": "execute_result"
    }
   ],
   "source": [
    "merged_dataset.dtypes # dtype attribute"
   ]
  },
  {
   "cell_type": "code",
   "execution_count": 298,
   "id": "b1a65907",
   "metadata": {},
   "outputs": [
    {
     "data": {
      "text/plain": [
       "title              object\n",
       "studio             object\n",
       "domestic_gross    float64\n",
       "foreign_gross      object\n",
       "year                int64\n",
       "dtype: object"
      ]
     },
     "execution_count": 298,
     "metadata": {},
     "output_type": "execute_result"
    }
   ],
   "source": [
    "movie_gross.dtypes # dtype attribute"
   ]
  },
  {
   "cell_type": "code",
   "execution_count": 299,
   "id": "a92ec671",
   "metadata": {},
   "outputs": [
    {
     "data": {
      "text/html": [
       "<div>\n",
       "<style scoped>\n",
       "    .dataframe tbody tr th:only-of-type {\n",
       "        vertical-align: middle;\n",
       "    }\n",
       "\n",
       "    .dataframe tbody tr th {\n",
       "        vertical-align: top;\n",
       "    }\n",
       "\n",
       "    .dataframe thead th {\n",
       "        text-align: right;\n",
       "    }\n",
       "</style>\n",
       "<table border=\"1\" class=\"dataframe\">\n",
       "  <thead>\n",
       "    <tr style=\"text-align: right;\">\n",
       "      <th></th>\n",
       "      <th>domestic_gross</th>\n",
       "      <th>year</th>\n",
       "    </tr>\n",
       "  </thead>\n",
       "  <tbody>\n",
       "    <tr>\n",
       "      <th>count</th>\n",
       "      <td>3.359000e+03</td>\n",
       "      <td>3387.000000</td>\n",
       "    </tr>\n",
       "    <tr>\n",
       "      <th>mean</th>\n",
       "      <td>2.874585e+07</td>\n",
       "      <td>2013.958075</td>\n",
       "    </tr>\n",
       "    <tr>\n",
       "      <th>std</th>\n",
       "      <td>6.698250e+07</td>\n",
       "      <td>2.478141</td>\n",
       "    </tr>\n",
       "    <tr>\n",
       "      <th>min</th>\n",
       "      <td>1.000000e+02</td>\n",
       "      <td>2010.000000</td>\n",
       "    </tr>\n",
       "    <tr>\n",
       "      <th>25%</th>\n",
       "      <td>1.200000e+05</td>\n",
       "      <td>2012.000000</td>\n",
       "    </tr>\n",
       "    <tr>\n",
       "      <th>50%</th>\n",
       "      <td>1.400000e+06</td>\n",
       "      <td>2014.000000</td>\n",
       "    </tr>\n",
       "    <tr>\n",
       "      <th>75%</th>\n",
       "      <td>2.790000e+07</td>\n",
       "      <td>2016.000000</td>\n",
       "    </tr>\n",
       "    <tr>\n",
       "      <th>max</th>\n",
       "      <td>9.367000e+08</td>\n",
       "      <td>2018.000000</td>\n",
       "    </tr>\n",
       "  </tbody>\n",
       "</table>\n",
       "</div>"
      ],
      "text/plain": [
       "       domestic_gross         year\n",
       "count    3.359000e+03  3387.000000\n",
       "mean     2.874585e+07  2013.958075\n",
       "std      6.698250e+07     2.478141\n",
       "min      1.000000e+02  2010.000000\n",
       "25%      1.200000e+05  2012.000000\n",
       "50%      1.400000e+06  2014.000000\n",
       "75%      2.790000e+07  2016.000000\n",
       "max      9.367000e+08  2018.000000"
      ]
     },
     "execution_count": 299,
     "metadata": {},
     "output_type": "execute_result"
    }
   ],
   "source": [
    "movie_gross.describe() # check for a statistical summary of the data"
   ]
  },
  {
   "cell_type": "markdown",
   "id": "fe7292b4",
   "metadata": {},
   "source": [
    "# Data preprocessing and cleaning"
   ]
  },
  {
   "cell_type": "markdown",
   "id": "c65c7fb6",
   "metadata": {},
   "source": [
    "We now need to identify and correct or remove incorrect, incomplete, incorrectly formatted,\n",
    "corrupted, duplicate or irrelevant data within the provided data."
   ]
  },
  {
   "cell_type": "code",
   "execution_count": 300,
   "id": "c34a8ca4",
   "metadata": {},
   "outputs": [
    {
     "name": "stdout",
     "output_type": "stream",
     "text": [
      "title                0\n",
      "studio               5\n",
      "domestic_gross      28\n",
      "foreign_gross     1350\n",
      "year                 0\n",
      "dtype: int64\n"
     ]
    }
   ],
   "source": [
    "# Display the count of null values in each column\n",
    "null_values = movie_gross.isnull()\n",
    "print(null_values.sum())"
   ]
  },
  {
   "cell_type": "code",
   "execution_count": 301,
   "id": "49008856",
   "metadata": {},
   "outputs": [
    {
     "name": "stdout",
     "output_type": "stream",
     "text": [
      "tconst                0\n",
      "primary_title         0\n",
      "original_title        0\n",
      "start_year            0\n",
      "runtime_minutes    7620\n",
      "genres              804\n",
      "averagerating         0\n",
      "numvotes              0\n",
      "dtype: int64\n"
     ]
    }
   ],
   "source": [
    "# Display the count of null values in each column\n",
    "null_values = merged_dataset.isnull()\n",
    "print(null_values.sum())"
   ]
  },
  {
   "cell_type": "code",
   "execution_count": 302,
   "id": "fa00216b",
   "metadata": {},
   "outputs": [
    {
     "name": "stdout",
     "output_type": "stream",
     "text": [
      "       Column Name  Missing Values  Percentage\n",
      "0  runtime_minutes               0    0.000000\n",
      "1           genres             804    1.088605\n",
      "2           tconst               0    0.000000\n",
      "3    primary_title               0    0.000000\n",
      "4   original_title               0    0.000000\n",
      "5       start_year            7620   10.317374\n",
      "6    averagerating               0    0.000000\n",
      "7         numvotes               0    0.000000\n"
     ]
    }
   ],
   "source": [
    "percentage_miss = (merged_dataset.isnull().sum() / len(merged_dataset)).sort_values(ascending=False)\n",
    "missing_data = pd.DataFrame({\"Column Name\": percentage_miss.index, \"Missing Values\": merged_dataset.isnull().sum(), \"Percentage\": percentage_miss * 100}).reset_index(drop=True)\n",
    "print(missing_data)"
   ]
  },
  {
   "cell_type": "code",
   "execution_count": 303,
   "id": "f5a16693",
   "metadata": {},
   "outputs": [],
   "source": [
    "# Calculate the mode in the genre column to fill the missing values\n",
    "merged_dataset['genres'].fillna(merged_dataset['genres'].mode()[0], inplace=True)\n",
    "# Calculate the mean value of the 'Runtime' column to fill the missing values\n",
    "merged_dataset['runtime_minutes'].fillna(merged_dataset['runtime_minutes'].mean(), inplace=True)"
   ]
  },
  {
   "cell_type": "code",
   "execution_count": 304,
   "id": "be72fd95",
   "metadata": {},
   "outputs": [
    {
     "name": "stdout",
     "output_type": "stream",
     "text": [
      "tconst             0\n",
      "primary_title      0\n",
      "original_title     0\n",
      "start_year         0\n",
      "runtime_minutes    0\n",
      "genres             0\n",
      "averagerating      0\n",
      "numvotes           0\n",
      "dtype: int64\n"
     ]
    }
   ],
   "source": [
    "# Display the count of null values in each column to see if all null values have now been replaced\n",
    "null_values = merged_dataset.isnull()\n",
    "print(null_values.sum())"
   ]
  },
  {
   "cell_type": "markdown",
   "id": "45bcacbd",
   "metadata": {},
   "source": [
    "The results show that there are no more null values in the dataset."
   ]
  },
  {
   "cell_type": "code",
   "execution_count": 305,
   "id": "f27da9f1",
   "metadata": {},
   "outputs": [
    {
     "name": "stdout",
     "output_type": "stream",
     "text": [
      "      Column Name  Missing Values  Percentage\n",
      "0   foreign_gross              28    0.826690\n",
      "1  domestic_gross            1350   39.858282\n",
      "2          studio               5    0.147623\n",
      "3           title               0    0.000000\n",
      "4            year               0    0.000000\n"
     ]
    }
   ],
   "source": [
    "percentage_miss = (movie_gross.isnull().sum() / len(movie_gross)).sort_values(ascending=False)\n",
    "missing_data = pd.DataFrame({\"Column Name\": percentage_miss.index, \"Missing Values\": movie_gross.isnull().sum(), \"Percentage\": percentage_miss * 100}).reset_index(drop=True)\n",
    "print(missing_data)"
   ]
  },
  {
   "cell_type": "code",
   "execution_count": 306,
   "id": "b829928d",
   "metadata": {},
   "outputs": [],
   "source": [
    "# Calculate the mean value of the 'domestic_gross' and 'foreign_gross' column to fill the missing values\n",
    "movie_gross['domestic_gross'].fillna(movie_gross['domestic_gross'].mean(), inplace=True)"
   ]
  },
  {
   "cell_type": "code",
   "execution_count": 307,
   "id": "927c8578",
   "metadata": {},
   "outputs": [
    {
     "data": {
      "text/plain": [
       "0       652000000\n",
       "1       691300000\n",
       "2       664300000\n",
       "3       535700000\n",
       "4       513900000\n",
       "          ...    \n",
       "3382          NaN\n",
       "3383          NaN\n",
       "3384          NaN\n",
       "3385          NaN\n",
       "3386          NaN\n",
       "Name: foreign_gross, Length: 3387, dtype: object"
      ]
     },
     "execution_count": 307,
     "metadata": {},
     "output_type": "execute_result"
    }
   ],
   "source": [
    "# Remove the , from the values in order to change the data type\n",
    "movie_gross['foreign_gross'] = movie_gross['foreign_gross'].str.replace(',','')\n",
    "movie_gross['foreign_gross']"
   ]
  },
  {
   "cell_type": "code",
   "execution_count": 308,
   "id": "dc0b0b05",
   "metadata": {},
   "outputs": [],
   "source": [
    "# Convert 'foreign_gross' column to a numeric data type and handle non-numeric values by converting them to NaN\n",
    "movie_gross['foreign_gross'] = pd.to_numeric(movie_gross['foreign_gross'], errors='coerce')"
   ]
  },
  {
   "cell_type": "code",
   "execution_count": 309,
   "id": "38153814",
   "metadata": {},
   "outputs": [],
   "source": [
    "# Fill missing values in the 'foreign_gross' column with the calculated mean of the column\n",
    "movie_gross['foreign_gross'].fillna(movie_gross['foreign_gross'].mean(), inplace=True)"
   ]
  },
  {
   "cell_type": "code",
   "execution_count": 310,
   "id": "aaf77ca3",
   "metadata": {},
   "outputs": [],
   "source": [
    "# Calculate the mode in the genre column to fill the missing values\n",
    "movie_gross['studio'].fillna(movie_gross['studio'].mode()[0], inplace=True)"
   ]
  },
  {
   "cell_type": "code",
   "execution_count": 311,
   "id": "a29a4d4f",
   "metadata": {},
   "outputs": [
    {
     "name": "stdout",
     "output_type": "stream",
     "text": [
      "title             0\n",
      "studio            0\n",
      "domestic_gross    0\n",
      "foreign_gross     0\n",
      "year              0\n",
      "dtype: int64\n"
     ]
    }
   ],
   "source": [
    "# Display the count of null values in each column to see if all null values have now been replaced\n",
    "null_values = movie_gross.isnull()\n",
    "print(null_values.sum())"
   ]
  },
  {
   "cell_type": "markdown",
   "id": "3b5c5648",
   "metadata": {},
   "source": [
    "The results show that there are no more null values in the dataset."
   ]
  },
  {
   "cell_type": "code",
   "execution_count": 312,
   "id": "435b3fe6",
   "metadata": {},
   "outputs": [
    {
     "data": {
      "text/plain": [
       "0       False\n",
       "1       False\n",
       "2       False\n",
       "3       False\n",
       "4       False\n",
       "        ...  \n",
       "3382    False\n",
       "3383    False\n",
       "3384    False\n",
       "3385    False\n",
       "3386    False\n",
       "Length: 3387, dtype: bool"
      ]
     },
     "execution_count": 312,
     "metadata": {},
     "output_type": "execute_result"
    }
   ],
   "source": [
    "#Check for duplicate values in the dataset\n",
    "movie_gross.duplicated()"
   ]
  },
  {
   "cell_type": "markdown",
   "id": "32fc08f9",
   "metadata": {},
   "source": [
    "The results show that there are no duplicate values in the dataset."
   ]
  },
  {
   "cell_type": "code",
   "execution_count": 313,
   "id": "10785534",
   "metadata": {},
   "outputs": [
    {
     "data": {
      "text/plain": [
       "0        False\n",
       "1        False\n",
       "2        False\n",
       "3        False\n",
       "4        False\n",
       "         ...  \n",
       "73851    False\n",
       "73852    False\n",
       "73853    False\n",
       "73854    False\n",
       "73855    False\n",
       "Length: 73856, dtype: bool"
      ]
     },
     "execution_count": 313,
     "metadata": {},
     "output_type": "execute_result"
    }
   ],
   "source": [
    "#Check for duplicate values in the dataset\n",
    "merged_dataset.duplicated()"
   ]
  },
  {
   "cell_type": "markdown",
   "id": "ec842587",
   "metadata": {},
   "source": [
    "The results show that there are no duplicate values in the dataset."
   ]
  },
  {
   "cell_type": "code",
   "execution_count": 318,
   "id": "79b64080",
   "metadata": {},
   "outputs": [
    {
     "data": {
      "text/html": [
       "<div>\n",
       "<style scoped>\n",
       "    .dataframe tbody tr th:only-of-type {\n",
       "        vertical-align: middle;\n",
       "    }\n",
       "\n",
       "    .dataframe tbody tr th {\n",
       "        vertical-align: top;\n",
       "    }\n",
       "\n",
       "    .dataframe thead th {\n",
       "        text-align: right;\n",
       "    }\n",
       "</style>\n",
       "<table border=\"1\" class=\"dataframe\">\n",
       "  <thead>\n",
       "    <tr style=\"text-align: right;\">\n",
       "      <th></th>\n",
       "      <th>tconst</th>\n",
       "      <th>primary_title</th>\n",
       "      <th>original_title</th>\n",
       "      <th>start_year</th>\n",
       "      <th>runtime_minutes</th>\n",
       "      <th>genres</th>\n",
       "      <th>averagerating</th>\n",
       "      <th>numvotes</th>\n",
       "    </tr>\n",
       "  </thead>\n",
       "  <tbody>\n",
       "    <tr>\n",
       "      <th>1</th>\n",
       "      <td>tt0066787</td>\n",
       "      <td>One Day Before the Rainy Season</td>\n",
       "      <td>Ashad Ka Ek Din</td>\n",
       "      <td>2019</td>\n",
       "      <td>114.00000</td>\n",
       "      <td>Biography,Drama</td>\n",
       "      <td>7.2</td>\n",
       "      <td>43</td>\n",
       "    </tr>\n",
       "    <tr>\n",
       "      <th>2</th>\n",
       "      <td>tt0069049</td>\n",
       "      <td>The Other Side of the Wind</td>\n",
       "      <td>The Other Side of the Wind</td>\n",
       "      <td>2018</td>\n",
       "      <td>122.00000</td>\n",
       "      <td>Drama</td>\n",
       "      <td>6.9</td>\n",
       "      <td>4517</td>\n",
       "    </tr>\n",
       "    <tr>\n",
       "      <th>3</th>\n",
       "      <td>tt0069204</td>\n",
       "      <td>Sabse Bada Sukh</td>\n",
       "      <td>Sabse Bada Sukh</td>\n",
       "      <td>2018</td>\n",
       "      <td>94.65404</td>\n",
       "      <td>Comedy,Drama</td>\n",
       "      <td>6.1</td>\n",
       "      <td>13</td>\n",
       "    </tr>\n",
       "    <tr>\n",
       "      <th>11</th>\n",
       "      <td>tt0170651</td>\n",
       "      <td>T.G.M. - osvoboditel</td>\n",
       "      <td>T.G.M. - osvoboditel</td>\n",
       "      <td>2018</td>\n",
       "      <td>60.00000</td>\n",
       "      <td>Documentary</td>\n",
       "      <td>7.5</td>\n",
       "      <td>6</td>\n",
       "    </tr>\n",
       "    <tr>\n",
       "      <th>13</th>\n",
       "      <td>tt0192528</td>\n",
       "      <td>Heaven &amp; Hell</td>\n",
       "      <td>Reverse Heaven</td>\n",
       "      <td>2018</td>\n",
       "      <td>104.00000</td>\n",
       "      <td>Drama</td>\n",
       "      <td>4.0</td>\n",
       "      <td>72</td>\n",
       "    </tr>\n",
       "    <tr>\n",
       "      <th>...</th>\n",
       "      <td>...</td>\n",
       "      <td>...</td>\n",
       "      <td>...</td>\n",
       "      <td>...</td>\n",
       "      <td>...</td>\n",
       "      <td>...</td>\n",
       "      <td>...</td>\n",
       "      <td>...</td>\n",
       "    </tr>\n",
       "    <tr>\n",
       "      <th>73850</th>\n",
       "      <td>tt9913056</td>\n",
       "      <td>Swarm Season</td>\n",
       "      <td>Swarm Season</td>\n",
       "      <td>2019</td>\n",
       "      <td>86.00000</td>\n",
       "      <td>Documentary</td>\n",
       "      <td>6.2</td>\n",
       "      <td>5</td>\n",
       "    </tr>\n",
       "    <tr>\n",
       "      <th>73851</th>\n",
       "      <td>tt9913084</td>\n",
       "      <td>Diabolik sono io</td>\n",
       "      <td>Diabolik sono io</td>\n",
       "      <td>2019</td>\n",
       "      <td>75.00000</td>\n",
       "      <td>Documentary</td>\n",
       "      <td>6.2</td>\n",
       "      <td>6</td>\n",
       "    </tr>\n",
       "    <tr>\n",
       "      <th>73852</th>\n",
       "      <td>tt9914286</td>\n",
       "      <td>Sokagin Çocuklari</td>\n",
       "      <td>Sokagin Çocuklari</td>\n",
       "      <td>2019</td>\n",
       "      <td>98.00000</td>\n",
       "      <td>Drama,Family</td>\n",
       "      <td>8.7</td>\n",
       "      <td>136</td>\n",
       "    </tr>\n",
       "    <tr>\n",
       "      <th>73854</th>\n",
       "      <td>tt9914942</td>\n",
       "      <td>La vida sense la Sara Amat</td>\n",
       "      <td>La vida sense la Sara Amat</td>\n",
       "      <td>2019</td>\n",
       "      <td>94.65404</td>\n",
       "      <td>Drama</td>\n",
       "      <td>6.6</td>\n",
       "      <td>5</td>\n",
       "    </tr>\n",
       "    <tr>\n",
       "      <th>73855</th>\n",
       "      <td>tt9916160</td>\n",
       "      <td>Drømmeland</td>\n",
       "      <td>Drømmeland</td>\n",
       "      <td>2019</td>\n",
       "      <td>72.00000</td>\n",
       "      <td>Documentary</td>\n",
       "      <td>6.5</td>\n",
       "      <td>11</td>\n",
       "    </tr>\n",
       "  </tbody>\n",
       "</table>\n",
       "<p>9706 rows × 8 columns</p>\n",
       "</div>"
      ],
      "text/plain": [
       "          tconst                    primary_title              original_title  \\\n",
       "1      tt0066787  One Day Before the Rainy Season             Ashad Ka Ek Din   \n",
       "2      tt0069049       The Other Side of the Wind  The Other Side of the Wind   \n",
       "3      tt0069204                  Sabse Bada Sukh             Sabse Bada Sukh   \n",
       "11     tt0170651             T.G.M. - osvoboditel        T.G.M. - osvoboditel   \n",
       "13     tt0192528                    Heaven & Hell              Reverse Heaven   \n",
       "...          ...                              ...                         ...   \n",
       "73850  tt9913056                     Swarm Season                Swarm Season   \n",
       "73851  tt9913084                 Diabolik sono io            Diabolik sono io   \n",
       "73852  tt9914286                Sokagin Çocuklari           Sokagin Çocuklari   \n",
       "73854  tt9914942       La vida sense la Sara Amat  La vida sense la Sara Amat   \n",
       "73855  tt9916160                       Drømmeland                  Drømmeland   \n",
       "\n",
       "       start_year  runtime_minutes           genres  averagerating  numvotes  \n",
       "1            2019        114.00000  Biography,Drama            7.2        43  \n",
       "2            2018        122.00000            Drama            6.9      4517  \n",
       "3            2018         94.65404     Comedy,Drama            6.1        13  \n",
       "11           2018         60.00000      Documentary            7.5         6  \n",
       "13           2018        104.00000            Drama            4.0        72  \n",
       "...           ...              ...              ...            ...       ...  \n",
       "73850        2019         86.00000      Documentary            6.2         5  \n",
       "73851        2019         75.00000      Documentary            6.2         6  \n",
       "73852        2019         98.00000     Drama,Family            8.7       136  \n",
       "73854        2019         94.65404            Drama            6.6         5  \n",
       "73855        2019         72.00000      Documentary            6.5        11  \n",
       "\n",
       "[9706 rows x 8 columns]"
      ]
     },
     "execution_count": 318,
     "metadata": {},
     "output_type": "execute_result"
    }
   ],
   "source": [
    "# Filter the DataFrame to include only years above 2018\n",
    "merged_dataset_filtered = merged_dataset[merged_dataset['start_year'] >= 2018]\n",
    "merged_dataset_filtered"
   ]
  },
  {
   "cell_type": "markdown",
   "id": "222d0bc6",
   "metadata": {},
   "source": [
    "This code filters the merged_dataset to only include movies from 2018 onwards and saves it as\n",
    "merged_dataset_filtered. Now we have reduced our dataset to 9706 rows and with more recent data only"
   ]
  },
  {
   "cell_type": "code",
   "execution_count": 315,
   "id": "39e5b1fe",
   "metadata": {},
   "outputs": [
    {
     "data": {
      "text/html": [
       "<div>\n",
       "<style scoped>\n",
       "    .dataframe tbody tr th:only-of-type {\n",
       "        vertical-align: middle;\n",
       "    }\n",
       "\n",
       "    .dataframe tbody tr th {\n",
       "        vertical-align: top;\n",
       "    }\n",
       "\n",
       "    .dataframe thead th {\n",
       "        text-align: right;\n",
       "    }\n",
       "</style>\n",
       "<table border=\"1\" class=\"dataframe\">\n",
       "  <thead>\n",
       "    <tr style=\"text-align: right;\">\n",
       "      <th></th>\n",
       "      <th>title</th>\n",
       "      <th>studio</th>\n",
       "      <th>domestic_gross</th>\n",
       "      <th>foreign_gross</th>\n",
       "      <th>year</th>\n",
       "    </tr>\n",
       "  </thead>\n",
       "  <tbody>\n",
       "    <tr>\n",
       "      <th>2758</th>\n",
       "      <td>Star Wars: The Last Jedi</td>\n",
       "      <td>BV</td>\n",
       "      <td>620200000.0</td>\n",
       "      <td>7.124000e+08</td>\n",
       "      <td>2017</td>\n",
       "    </tr>\n",
       "    <tr>\n",
       "      <th>2759</th>\n",
       "      <td>Beauty and the Beast (2017)</td>\n",
       "      <td>BV</td>\n",
       "      <td>504000000.0</td>\n",
       "      <td>7.595000e+08</td>\n",
       "      <td>2017</td>\n",
       "    </tr>\n",
       "    <tr>\n",
       "      <th>2760</th>\n",
       "      <td>The Fate of the Furious</td>\n",
       "      <td>Uni.</td>\n",
       "      <td>226000000.0</td>\n",
       "      <td>1.010000e+03</td>\n",
       "      <td>2017</td>\n",
       "    </tr>\n",
       "    <tr>\n",
       "      <th>2761</th>\n",
       "      <td>Despicable Me 3</td>\n",
       "      <td>Uni.</td>\n",
       "      <td>264600000.0</td>\n",
       "      <td>7.702000e+08</td>\n",
       "      <td>2017</td>\n",
       "    </tr>\n",
       "    <tr>\n",
       "      <th>2762</th>\n",
       "      <td>Jumanji: Welcome to the Jungle</td>\n",
       "      <td>Sony</td>\n",
       "      <td>404500000.0</td>\n",
       "      <td>5.576000e+08</td>\n",
       "      <td>2017</td>\n",
       "    </tr>\n",
       "    <tr>\n",
       "      <th>...</th>\n",
       "      <td>...</td>\n",
       "      <td>...</td>\n",
       "      <td>...</td>\n",
       "      <td>...</td>\n",
       "      <td>...</td>\n",
       "    </tr>\n",
       "    <tr>\n",
       "      <th>3382</th>\n",
       "      <td>The Quake</td>\n",
       "      <td>Magn.</td>\n",
       "      <td>6200.0</td>\n",
       "      <td>7.487281e+07</td>\n",
       "      <td>2018</td>\n",
       "    </tr>\n",
       "    <tr>\n",
       "      <th>3383</th>\n",
       "      <td>Edward II (2018 re-release)</td>\n",
       "      <td>FM</td>\n",
       "      <td>4800.0</td>\n",
       "      <td>7.487281e+07</td>\n",
       "      <td>2018</td>\n",
       "    </tr>\n",
       "    <tr>\n",
       "      <th>3384</th>\n",
       "      <td>El Pacto</td>\n",
       "      <td>Sony</td>\n",
       "      <td>2500.0</td>\n",
       "      <td>7.487281e+07</td>\n",
       "      <td>2018</td>\n",
       "    </tr>\n",
       "    <tr>\n",
       "      <th>3385</th>\n",
       "      <td>The Swan</td>\n",
       "      <td>Synergetic</td>\n",
       "      <td>2400.0</td>\n",
       "      <td>7.487281e+07</td>\n",
       "      <td>2018</td>\n",
       "    </tr>\n",
       "    <tr>\n",
       "      <th>3386</th>\n",
       "      <td>An Actor Prepares</td>\n",
       "      <td>Grav.</td>\n",
       "      <td>1700.0</td>\n",
       "      <td>7.487281e+07</td>\n",
       "      <td>2018</td>\n",
       "    </tr>\n",
       "  </tbody>\n",
       "</table>\n",
       "<p>629 rows × 5 columns</p>\n",
       "</div>"
      ],
      "text/plain": [
       "                               title      studio  domestic_gross  \\\n",
       "2758        Star Wars: The Last Jedi          BV     620200000.0   \n",
       "2759     Beauty and the Beast (2017)          BV     504000000.0   \n",
       "2760         The Fate of the Furious        Uni.     226000000.0   \n",
       "2761                 Despicable Me 3        Uni.     264600000.0   \n",
       "2762  Jumanji: Welcome to the Jungle        Sony     404500000.0   \n",
       "...                              ...         ...             ...   \n",
       "3382                       The Quake       Magn.          6200.0   \n",
       "3383     Edward II (2018 re-release)          FM          4800.0   \n",
       "3384                        El Pacto        Sony          2500.0   \n",
       "3385                        The Swan  Synergetic          2400.0   \n",
       "3386               An Actor Prepares       Grav.          1700.0   \n",
       "\n",
       "      foreign_gross  year  \n",
       "2758   7.124000e+08  2017  \n",
       "2759   7.595000e+08  2017  \n",
       "2760   1.010000e+03  2017  \n",
       "2761   7.702000e+08  2017  \n",
       "2762   5.576000e+08  2017  \n",
       "...             ...   ...  \n",
       "3382   7.487281e+07  2018  \n",
       "3383   7.487281e+07  2018  \n",
       "3384   7.487281e+07  2018  \n",
       "3385   7.487281e+07  2018  \n",
       "3386   7.487281e+07  2018  \n",
       "\n",
       "[629 rows x 5 columns]"
      ]
     },
     "execution_count": 315,
     "metadata": {},
     "output_type": "execute_result"
    }
   ],
   "source": [
    "# Filter the DataFrame to include only years above 2017\n",
    "movie_gross_filtered = movie_gross[movie_gross['year'] >= 2017]\n",
    "movie_gross_filtered"
   ]
  },
  {
   "cell_type": "markdown",
   "id": "39c5b94f",
   "metadata": {},
   "source": [
    "# Data analysis and visualization"
   ]
  },
  {
   "cell_type": "markdown",
   "id": "377c605f",
   "metadata": {},
   "source": [
    "**1.Determining the best performing studios**"
   ]
  },
  {
   "cell_type": "code",
   "execution_count": 324,
   "id": "e274c69b",
   "metadata": {},
   "outputs": [
    {
     "data": {
      "text/html": [
       "<div>\n",
       "<style scoped>\n",
       "    .dataframe tbody tr th:only-of-type {\n",
       "        vertical-align: middle;\n",
       "    }\n",
       "\n",
       "    .dataframe tbody tr th {\n",
       "        vertical-align: top;\n",
       "    }\n",
       "\n",
       "    .dataframe thead th {\n",
       "        text-align: right;\n",
       "    }\n",
       "</style>\n",
       "<table border=\"1\" class=\"dataframe\">\n",
       "  <thead>\n",
       "    <tr style=\"text-align: right;\">\n",
       "      <th></th>\n",
       "      <th>studio</th>\n",
       "      <th>foreign_gross</th>\n",
       "      <th>domestic_gross</th>\n",
       "    </tr>\n",
       "  </thead>\n",
       "  <tbody>\n",
       "    <tr>\n",
       "      <th>2758</th>\n",
       "      <td>BV</td>\n",
       "      <td>7.124000e+08</td>\n",
       "      <td>620200000.0</td>\n",
       "    </tr>\n",
       "    <tr>\n",
       "      <th>2759</th>\n",
       "      <td>BV</td>\n",
       "      <td>7.595000e+08</td>\n",
       "      <td>504000000.0</td>\n",
       "    </tr>\n",
       "    <tr>\n",
       "      <th>2760</th>\n",
       "      <td>Uni.</td>\n",
       "      <td>1.010000e+03</td>\n",
       "      <td>226000000.0</td>\n",
       "    </tr>\n",
       "    <tr>\n",
       "      <th>2761</th>\n",
       "      <td>Uni.</td>\n",
       "      <td>7.702000e+08</td>\n",
       "      <td>264600000.0</td>\n",
       "    </tr>\n",
       "    <tr>\n",
       "      <th>2762</th>\n",
       "      <td>Sony</td>\n",
       "      <td>5.576000e+08</td>\n",
       "      <td>404500000.0</td>\n",
       "    </tr>\n",
       "    <tr>\n",
       "      <th>...</th>\n",
       "      <td>...</td>\n",
       "      <td>...</td>\n",
       "      <td>...</td>\n",
       "    </tr>\n",
       "    <tr>\n",
       "      <th>3382</th>\n",
       "      <td>Magn.</td>\n",
       "      <td>7.487281e+07</td>\n",
       "      <td>6200.0</td>\n",
       "    </tr>\n",
       "    <tr>\n",
       "      <th>3383</th>\n",
       "      <td>FM</td>\n",
       "      <td>7.487281e+07</td>\n",
       "      <td>4800.0</td>\n",
       "    </tr>\n",
       "    <tr>\n",
       "      <th>3384</th>\n",
       "      <td>Sony</td>\n",
       "      <td>7.487281e+07</td>\n",
       "      <td>2500.0</td>\n",
       "    </tr>\n",
       "    <tr>\n",
       "      <th>3385</th>\n",
       "      <td>Synergetic</td>\n",
       "      <td>7.487281e+07</td>\n",
       "      <td>2400.0</td>\n",
       "    </tr>\n",
       "    <tr>\n",
       "      <th>3386</th>\n",
       "      <td>Grav.</td>\n",
       "      <td>7.487281e+07</td>\n",
       "      <td>1700.0</td>\n",
       "    </tr>\n",
       "  </tbody>\n",
       "</table>\n",
       "<p>629 rows × 3 columns</p>\n",
       "</div>"
      ],
      "text/plain": [
       "          studio  foreign_gross  domestic_gross\n",
       "2758          BV   7.124000e+08     620200000.0\n",
       "2759          BV   7.595000e+08     504000000.0\n",
       "2760        Uni.   1.010000e+03     226000000.0\n",
       "2761        Uni.   7.702000e+08     264600000.0\n",
       "2762        Sony   5.576000e+08     404500000.0\n",
       "...          ...            ...             ...\n",
       "3382       Magn.   7.487281e+07          6200.0\n",
       "3383          FM   7.487281e+07          4800.0\n",
       "3384        Sony   7.487281e+07          2500.0\n",
       "3385  Synergetic   7.487281e+07          2400.0\n",
       "3386       Grav.   7.487281e+07          1700.0\n",
       "\n",
       "[629 rows x 3 columns]"
      ]
     },
     "execution_count": 324,
     "metadata": {},
     "output_type": "execute_result"
    }
   ],
   "source": [
    "# create a new DataFrame called studio_df with the columns studio, foreign_gross and domest_gross\n",
    "studio_df = movie_gross_filtered[['studio', 'foreign_gross', 'domestic_gross']]\n",
    "studio_df"
   ]
  },
  {
   "cell_type": "code",
   "execution_count": 365,
   "id": "092741e1",
   "metadata": {},
   "outputs": [
    {
     "data": {
      "image/png": "[encoded data removed]",
      "text/plain": [
       "<Figure size 1200x600 with 1 Axes>"
      ]
     },
     "metadata": {},
     "output_type": "display_data"
    }
   ],
   "source": [
    "# Create a copy of the DataFrame\n",
    "studio_df = studio_df.copy()\n",
    "\n",
    "# Calculate total gross for each studio\n",
    "studio_df['total_gross'] = studio_df['domestic_gross'] + studio_df['foreign_gross']\n",
    "\n",
    "# Group by studio and calculate the total gross\n",
    "studio_totals = studio_df.groupby('studio')['total_gross'].sum().sort_values(ascending=False)\n",
    "\n",
    "# Select the top 10 studios\n",
    "top_10_studios = studio_totals.head(10)\n",
    "\n",
    "# Create a bar plot\n",
    "plt.figure(figsize=(12, 6))\n",
    "sns.barplot(x=top_10_studios.values, y=top_10_studios.index, palette='Set2')\n",
    "plt.xticks(rotation=45)\n",
    "plt.title('Top 10 Studios by Total Gross')\n",
    "plt.xlabel('Total Gross (Millions)')\n",
    "plt.ylabel('Studio')\n",
    "plt.show()\n"
   ]
  },
  {
   "cell_type": "markdown",
   "id": "a17e84c7",
   "metadata": {},
   "source": [
    "The top 5 studios in terms of gross income are\n",
    "\n",
    "1.Buena Vista\n",
    "\n",
    "2.Warner Bros. Pictures\n",
    "\n",
    "3.Universal Pictures\n",
    "\n",
    "4.20th Century Fox\n",
    "\n",
    "5.Sony Pictures Entertainment (SPE)\n"
   ]
  },
  {
   "cell_type": "markdown",
   "id": "33560dfc",
   "metadata": {},
   "source": [
    "**Determining the most prevalent genre**"
   ]
  },
  {
   "cell_type": "code",
   "execution_count": 316,
   "id": "56755460",
   "metadata": {},
   "outputs": [
    {
     "name": "stdout",
     "output_type": "stream",
     "text": [
      "genres\n",
      "Drama          4015\n",
      "Comedy         2339\n",
      "Documentary    1913\n",
      "Thriller       1122\n",
      "Horror          994\n",
      "Action          905\n",
      "Romance         783\n",
      "Crime           556\n",
      "Adventure       480\n",
      "Family          382\n",
      "Mystery         382\n",
      "Biography       332\n",
      "Sci-Fi          285\n",
      "Fantasy         275\n",
      "Animation       265\n",
      "History         242\n",
      "Music           192\n",
      "Sport           146\n",
      "War             106\n",
      "Musical          87\n",
      "Western          39\n",
      "News              7\n",
      "Reality-TV        2\n",
      "Short             1\n",
      "Name: count, dtype: int64\n"
     ]
    }
   ],
   "source": [
    "# Group movies by genre and count them\n",
    "movie_genre_counts = merged_dataset_filtered['genres'].str.split(',').explode().str.strip().value_counts()\n",
    "\n",
    "# Display the counts of movies by genre\n",
    "print(movie_genre_counts)"
   ]
  },
  {
   "cell_type": "markdown",
   "id": "f275ec0a",
   "metadata": {},
   "source": [
    "This value count will help us identify genres with the highest count\n",
    "Our next step will be to create a graph in order to visualize which movie genres have the\n",
    "greatest number of films."
   ]
  },
  {
   "cell_type": "code",
   "execution_count": 319,
   "id": "df010fae",
   "metadata": {},
   "outputs": [
    {
     "data": {
      "image/png": "[encoded data removed]",
      "text/plain": [
       "<Figure size 640x480 with 1 Axes>"
      ]
     },
     "metadata": {},
     "output_type": "display_data"
    }
   ],
   "source": [
    "movie_genre_counts = merged_dataset_filtered['genres'].str.split(',').explode().str.strip().value_counts().plot.bar()"
   ]
  },
  {
   "cell_type": "code",
   "execution_count": 346,
   "id": "606283f0",
   "metadata": {},
   "outputs": [
    {
     "data": {
      "image/png": "[encoded data removed]",
      "text/plain": [
       "<Figure size 1200x600 with 1 Axes>"
      ]
     },
     "metadata": {},
     "output_type": "display_data"
    }
   ],
   "source": [
    "# Sample genre counts data\n",
    "genres = ['Drama', 'Comedy', 'Documentary', 'Thriller', 'Horror', 'Action', 'Romance',\n",
    "    'Crime', 'Adventure', 'Family', 'Mystery', 'Biography', 'Sci-Fi', 'Fantasy',\n",
    "    'Animation', 'History', 'Music', 'Sport', 'War', 'Musical', 'Western',\n",
    "    'News', 'Reality-TV', 'Short']\n",
    "genre_counts = [4015, 2339, 1913, 1122, 994, 905, 783, 556, 480, 382, 382, 332, 285, 275,\n",
    "    265, 242, 192, 146, 106, 87, 39, 7, 2, 1]\n",
    "# Create a bar plot\n",
    "plt.figure(figsize=(12, 6))  # Set the figure size\n",
    "plt.bar(genres, genre_counts, color='skyblue')\n",
    "plt.xlabel('Genres')\n",
    "plt.ylabel('movie count')\n",
    "plt.title('Genre Distribution')\n",
    "plt.xticks(rotation=90)  # Rotate x-axis labels for better readability\n",
    "\n",
    "# Display the plot\n",
    "plt.tight_layout()\n",
    "plt.show()\n"
   ]
  },
  {
   "cell_type": "markdown",
   "id": "9b1df9d7",
   "metadata": {},
   "source": [
    "From the graph above we learn that genres with the highest number of movies were:\n",
    "\n",
    "Drama\n",
    "\n",
    "Comedy\n",
    "\n",
    "Documentary\n",
    "\n",
    "Thriller\n",
    "\n",
    "Horror"
   ]
  },
  {
   "cell_type": "markdown",
   "id": "ac3e2a60",
   "metadata": {},
   "source": [
    "**The Correlation between Movie runtime and number of votes received**"
   ]
  },
  {
   "cell_type": "code",
   "execution_count": 361,
   "id": "1833fe0a",
   "metadata": {},
   "outputs": [
    {
     "name": "stdout",
     "output_type": "stream",
     "text": [
      "       runtime_minutes       numvotes\n",
      "count      9706.000000    9706.000000\n",
      "mean         97.258133    2017.147125\n",
      "std          23.906031   16835.378721\n",
      "min           7.000000       5.000000\n",
      "25%          86.000000      14.000000\n",
      "50%          94.654040      45.000000\n",
      "75%         105.000000     220.000000\n",
      "max         808.000000  670926.000000\n"
     ]
    },
    {
     "data": {
      "image/png": "[encoded data removed]",
      "text/plain": [
       "<Figure size 1200x600 with 2 Axes>"
      ]
     },
     "metadata": {},
     "output_type": "display_data"
    }
   ],
   "source": [
    "# Calculate summary statistics\n",
    "print(merged_dataset_filtered[['runtime_minutes', 'numvotes']].describe())\n",
    "\n",
    "# Visualize the distribution of 'runtime_minutes' and 'numvotes'\n",
    "plt.figure(figsize=(12, 6))\n",
    "plt.subplot(1, 2, 1)\n",
    "sns.histplot(merged_dataset_filtered['runtime_minutes'], kde=True, bins=20)\n",
    "plt.title('Distribution of Runtime (Minutes)')\n",
    "plt.xlabel('Runtime (Minutes)')\n",
    "plt.ylabel('Frequency')\n",
    "\n",
    "plt.subplot(1, 2, 2)\n",
    "sns.histplot(merged_dataset_filtered['numvotes'], kde=True, bins=20)\n",
    "plt.title('Distribution of Number of Votes')\n",
    "plt.xlabel('Number of Votes')\n",
    "plt.ylabel('Frequency')\n",
    "\n",
    "plt.show()\n"
   ]
  },
  {
   "cell_type": "code",
   "execution_count": 362,
   "id": "9ecaf289",
   "metadata": {},
   "outputs": [
    {
     "data": {
      "image/png": "[encoded data removed]",
      "text/plain": [
       "<Figure size 800x600 with 1 Axes>"
      ]
     },
     "metadata": {},
     "output_type": "display_data"
    }
   ],
   "source": [
    "# Create a scatter plot to visualize the relationship between 'runtime_minutes' and 'numvotes'\n",
    "plt.figure(figsize=(8, 6))\n",
    "sns.scatterplot(data=merged_dataset_filtered, x='runtime_minutes', y='numvotes', alpha=0.5)\n",
    "plt.title('Scatter Plot of Runtime vs. Number of Votes')\n",
    "plt.xlabel('Runtime (Minutes)')\n",
    "plt.ylabel('Number of Votes')\n",
    "plt.show()\n"
   ]
  },
  {
   "cell_type": "code",
   "execution_count": 363,
   "id": "e3526760",
   "metadata": {},
   "outputs": [
    {
     "name": "stdout",
     "output_type": "stream",
     "text": [
      "Correlation between Runtime and Number of Votes: 0.11\n"
     ]
    }
   ],
   "source": [
    "correlation = merged_dataset_filtered['runtime_minutes'].corr(merged_dataset_filtered['numvotes'])\n",
    "print(f'Correlation between Runtime and Number of Votes: {correlation:.2f}')\n"
   ]
  },
  {
   "cell_type": "markdown",
   "id": "8321a3c2",
   "metadata": {},
   "source": [
    "with a correlation coefficient of 0.11, there is not a strong relationship between the runtime of movies and the number of votes they receive"
   ]
  },
  {
   "cell_type": "markdown",
   "id": "9bfb80f8",
   "metadata": {},
   "source": [
    "# Conclusion"
   ]
  },
  {
   "cell_type": "markdown",
   "id": "65b2a46d",
   "metadata": {},
   "source": [
    "This analysis leads to the following conclusions for the types of films that are the best\n",
    "performing in the box office:"
   ]
  },
  {
   "cell_type": "markdown",
   "id": "61a3d945",
   "metadata": {},
   "source": [
    "Genre Popularity:\n",
    "The analysis shows that the 'Drama' genre has the highest movie count, indicating its popularity among consumers. This information is valuable for content creators and studios looking to produce content that resonates with a broad audience.\n",
    "\n",
    "Buena Vista's Success:\n",
    "Buena Vista stands out as the studio with the highest total gross income. This finding suggests that Microsoft could explore partnerships, collaborations, or even consider acquisitions in the film industry. Acquiring or partnering with successful studios like Buena Vista could be a strategic move to enter the film industry with a strong foothold.\n",
    "\n",
    "Runtime and Votes:\n",
    "The weak correlation between the runtime of movies and the number of votes received provides flexibility for Microsoft. This indicates that Microsoft can produce content of varying lengths, including short movies or long series. Since 'Drama' is the most popular genre, Microsoft can focus on producing drama content in line with audience preferences."
   ]
  },
  {
   "cell_type": "markdown",
   "id": "88bb42c6",
   "metadata": {},
   "source": [
    "# Recommendation"
   ]
  },
  {
   "cell_type": "markdown",
   "id": "8d9e4028",
   "metadata": {},
   "source": [
    "Strategic Partnerships and Acquisitions:\n",
    "Consider strategic partnerships with successful studios and potentially explore acquisition opportunities in the film industry.\n",
    "Rationale: The analysis identified Buena Vista as a top-performing studio. Partnering with or acquiring studios like Buena Vista can provide Microsoft with a competitive edge, established content libraries, and industry expertise. This strategic move can expedite Microsoft's entry and growth in the film industry.\n",
    "\n",
    "Content Production Strategy:\n",
    "Develop a content production strategy that caters to the most popular genre, 'Drama,' while also offering flexibility in content length.\n",
    "Rationale: 'Drama' is the most popular genre, and the weak correlation between runtime and votes implies flexibility in content creation. Microsoft can focus on producing drama content to align with consumer preferences while diversifying the portfolio with both short films and long series. This approach can maximize audience engagement and satisfaction.\n",
    "\n",
    "Digital Distribution Platform:\n",
    "Create a digital distribution platform for movie content to reach a broader audience.\n",
    "Rationale: As a tech giant, Microsoft has the resources and technical capabilities to develop a digital platform for distributing films. This platform can serve as a one-stop destination for streaming and purchasing movies, making it accessible to a global audience. By leveraging Microsoft's technology expertise, this platform can provide a seamless and engaging viewing experience."
   ]
  },
  {
   "cell_type": "code",
   "execution_count": null,
   "id": "72c2ad13",
   "metadata": {},
   "outputs": [],
   "source": []
  }
 ],
 "metadata": {
  "kernelspec": {
   "display_name": "Python 3 (ipykernel)",
   "language": "python",
   "name": "python3"
  },
  "language_info": {
   "codemirror_mode": {
    "name": "ipython",
    "version": 3
   },
   "file_extension": ".py",
   "mimetype": "text/x-python",
   "name": "python",
   "nbconvert_exporter": "python",
   "pygments_lexer": "ipython3",
   "version": "3.11.5"
  }
 },
 "nbformat": 4,
 "nbformat_minor": 5
}
